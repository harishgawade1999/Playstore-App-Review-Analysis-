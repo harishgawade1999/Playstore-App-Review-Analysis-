{
  "nbformat": 4,
  "nbformat_minor": 0,
  "metadata": {
    "colab": {
      "name": "Harish Play Store App Review Analysis - Capstone Project.ipynb",
      "provenance": [],
      "collapsed_sections": [],
      "include_colab_link": true
    },
    "kernelspec": {
      "display_name": "Python 3",
      "language": "python",
      "name": "python3"
    },
    "language_info": {
      "codemirror_mode": {
        "name": "ipython",
        "version": 3
      },
      "file_extension": ".py",
      "mimetype": "text/x-python",
      "name": "python",
      "nbconvert_exporter": "python",
      "pygments_lexer": "ipython3",
      "version": "3.6.6"
    }
  },
  "cells": [
    {
      "cell_type": "markdown",
      "metadata": {
        "id": "view-in-github",
        "colab_type": "text"
      },
      "source": [
        "<a href=\"https://colab.research.google.com/github/harishgawade1999/Playstore-App-Review-Analysis-/blob/main/Harish_Play_Store_App_Review_Analysis_Capstone_Project.ipynb\" target=\"_parent\"><img src=\"https://colab.research.google.com/assets/colab-badge.svg\" alt=\"Open In Colab\"/></a>"
      ]
    },
    {
      "cell_type": "markdown",
      "metadata": {
        "id": "Y06xIdG26kRF"
      },
      "source": [
        "## <b> The Play Store apps data has enormous potential to drive app-making businesses to success. Actionable insights can be drawn for developers to work on and capture the Android market. </b>\n",
        "\n",
        "## <b> Each app (row) has values for catergory, rating, size, and more. Another dataset contains customer reviews of the android apps.</b>\n",
        "\n",
        "## <b> Explore and analyze the data to discover key factors responsible for app engagement and success. </b>"
      ]
    },
    {
      "cell_type": "code",
      "metadata": {
        "colab": {
          "base_uri": "https://localhost:8080/",
          "height": 17
        },
        "id": "dByMsuzT8Tnw",
        "outputId": "81ac66dc-ed9b-42c5-a0cb-c00c186e1bf3"
      },
      "source": [
        "# Loading the libraries\n",
        "import numpy as np\n",
        "import pandas as pd\n",
        "import matplotlib.pyplot as plt\n",
        "import seaborn as sns\n",
        "from datetime import datetime\n",
        "import warnings\n",
        "warnings.filterwarnings('ignore')\n",
        "%matplotlib inline\n",
        "\n",
        "sns.set_style(\"darkgrid\")\n",
        "\n",
        "import plotly.graph_objs as go\n",
        "from plotly.offline import init_notebook_mode, iplot\n",
        "init_notebook_mode(connected=True)\n",
        "import plotly.graph_objs as go\n",
        "\n",
        "# word cloud library\n",
        "from wordcloud import WordCloud"
      ],
      "execution_count": 1,
      "outputs": [
        {
          "output_type": "display_data",
          "data": {
            "text/html": [
              "        <script type=\"text/javascript\">\n",
              "        window.PlotlyConfig = {MathJaxConfig: 'local'};\n",
              "        if (window.MathJax) {MathJax.Hub.Config({SVG: {font: \"STIX-Web\"}});}\n",
              "        if (typeof require !== 'undefined') {\n",
              "        require.undef(\"plotly\");\n",
              "        requirejs.config({\n",
              "            paths: {\n",
              "                'plotly': ['https://cdn.plot.ly/plotly-latest.min']\n",
              "            }\n",
              "        });\n",
              "        require(['plotly'], function(Plotly) {\n",
              "            window._Plotly = Plotly;\n",
              "        });\n",
              "        }\n",
              "        </script>\n",
              "        "
            ]
          },
          "metadata": {}
        }
      ]
    },
    {
      "cell_type": "code",
      "metadata": {
        "colab": {
          "base_uri": "https://localhost:8080/"
        },
        "id": "60cFWw86wyrF",
        "outputId": "10f3853d-3233-4b72-e532-0b66275002e5"
      },
      "source": [
        "# Mounting the drive where the dataset to work on is saved\n",
        "from google.colab import drive\n",
        "drive.mount('/content/drive')"
      ],
      "execution_count": 2,
      "outputs": [
        {
          "output_type": "stream",
          "text": [
            "Mounted at /content/drive\n"
          ],
          "name": "stdout"
        }
      ]
    },
    {
      "cell_type": "code",
      "metadata": {
        "id": "BH__sqtKw0T1"
      },
      "source": [
        "# Defining the directory path where the data is stored\n",
        "directory_path = \"/content/drive/MyDrive/Google play store/\""
      ],
      "execution_count": 3,
      "outputs": []
    },
    {
      "cell_type": "code",
      "metadata": {
        "id": "Ut0EzMR9xJcw"
      },
      "source": [
        "# Loading the dataset as pandas data frame\n",
        "apps_data = pd.read_csv(directory_path + \"Play Store Data.csv\")\n",
        "user_reviews = pd.read_csv(directory_path + \"User Reviews.csv\")"
      ],
      "execution_count": 4,
      "outputs": []
    },
    {
      "cell_type": "markdown",
      "metadata": {
        "id": "k6dvgUXCTuQY"
      },
      "source": [
        "## **Understanding the basics of dataset**\n",
        "\n",
        "Let's first have a look at the structure of the dataset and understand how the data is organized."
      ]
    },
    {
      "cell_type": "code",
      "metadata": {
        "colab": {
          "base_uri": "https://localhost:8080/",
          "height": 287
        },
        "id": "SEh-NPZwx-EL",
        "outputId": "e32039c3-a9ff-4c53-d8e0-6dd6bf8cf85e"
      },
      "source": [
        "# taking a glimpse of the dataset\n",
        "apps_data.head()"
      ],
      "execution_count": 5,
      "outputs": [
        {
          "output_type": "execute_result",
          "data": {
            "text/html": [
              "<div>\n",
              "<style scoped>\n",
              "    .dataframe tbody tr th:only-of-type {\n",
              "        vertical-align: middle;\n",
              "    }\n",
              "\n",
              "    .dataframe tbody tr th {\n",
              "        vertical-align: top;\n",
              "    }\n",
              "\n",
              "    .dataframe thead th {\n",
              "        text-align: right;\n",
              "    }\n",
              "</style>\n",
              "<table border=\"1\" class=\"dataframe\">\n",
              "  <thead>\n",
              "    <tr style=\"text-align: right;\">\n",
              "      <th></th>\n",
              "      <th>App</th>\n",
              "      <th>Category</th>\n",
              "      <th>Rating</th>\n",
              "      <th>Reviews</th>\n",
              "      <th>Size</th>\n",
              "      <th>Installs</th>\n",
              "      <th>Type</th>\n",
              "      <th>Price</th>\n",
              "      <th>Content Rating</th>\n",
              "      <th>Genres</th>\n",
              "      <th>Last Updated</th>\n",
              "      <th>Current Ver</th>\n",
              "      <th>Android Ver</th>\n",
              "    </tr>\n",
              "  </thead>\n",
              "  <tbody>\n",
              "    <tr>\n",
              "      <th>0</th>\n",
              "      <td>Photo Editor &amp; Candy Camera &amp; Grid &amp; ScrapBook</td>\n",
              "      <td>ART_AND_DESIGN</td>\n",
              "      <td>4.1</td>\n",
              "      <td>159</td>\n",
              "      <td>19M</td>\n",
              "      <td>10,000+</td>\n",
              "      <td>Free</td>\n",
              "      <td>0</td>\n",
              "      <td>Everyone</td>\n",
              "      <td>Art &amp; Design</td>\n",
              "      <td>January 7, 2018</td>\n",
              "      <td>1.0.0</td>\n",
              "      <td>4.0.3 and up</td>\n",
              "    </tr>\n",
              "    <tr>\n",
              "      <th>1</th>\n",
              "      <td>Coloring book moana</td>\n",
              "      <td>ART_AND_DESIGN</td>\n",
              "      <td>3.9</td>\n",
              "      <td>967</td>\n",
              "      <td>14M</td>\n",
              "      <td>500,000+</td>\n",
              "      <td>Free</td>\n",
              "      <td>0</td>\n",
              "      <td>Everyone</td>\n",
              "      <td>Art &amp; Design;Pretend Play</td>\n",
              "      <td>January 15, 2018</td>\n",
              "      <td>2.0.0</td>\n",
              "      <td>4.0.3 and up</td>\n",
              "    </tr>\n",
              "    <tr>\n",
              "      <th>2</th>\n",
              "      <td>U Launcher Lite – FREE Live Cool Themes, Hide ...</td>\n",
              "      <td>ART_AND_DESIGN</td>\n",
              "      <td>4.7</td>\n",
              "      <td>87510</td>\n",
              "      <td>8.7M</td>\n",
              "      <td>5,000,000+</td>\n",
              "      <td>Free</td>\n",
              "      <td>0</td>\n",
              "      <td>Everyone</td>\n",
              "      <td>Art &amp; Design</td>\n",
              "      <td>August 1, 2018</td>\n",
              "      <td>1.2.4</td>\n",
              "      <td>4.0.3 and up</td>\n",
              "    </tr>\n",
              "    <tr>\n",
              "      <th>3</th>\n",
              "      <td>Sketch - Draw &amp; Paint</td>\n",
              "      <td>ART_AND_DESIGN</td>\n",
              "      <td>4.5</td>\n",
              "      <td>215644</td>\n",
              "      <td>25M</td>\n",
              "      <td>50,000,000+</td>\n",
              "      <td>Free</td>\n",
              "      <td>0</td>\n",
              "      <td>Teen</td>\n",
              "      <td>Art &amp; Design</td>\n",
              "      <td>June 8, 2018</td>\n",
              "      <td>Varies with device</td>\n",
              "      <td>4.2 and up</td>\n",
              "    </tr>\n",
              "    <tr>\n",
              "      <th>4</th>\n",
              "      <td>Pixel Draw - Number Art Coloring Book</td>\n",
              "      <td>ART_AND_DESIGN</td>\n",
              "      <td>4.3</td>\n",
              "      <td>967</td>\n",
              "      <td>2.8M</td>\n",
              "      <td>100,000+</td>\n",
              "      <td>Free</td>\n",
              "      <td>0</td>\n",
              "      <td>Everyone</td>\n",
              "      <td>Art &amp; Design;Creativity</td>\n",
              "      <td>June 20, 2018</td>\n",
              "      <td>1.1</td>\n",
              "      <td>4.4 and up</td>\n",
              "    </tr>\n",
              "  </tbody>\n",
              "</table>\n",
              "</div>"
            ],
            "text/plain": [
              "                                                 App  ...   Android Ver\n",
              "0     Photo Editor & Candy Camera & Grid & ScrapBook  ...  4.0.3 and up\n",
              "1                                Coloring book moana  ...  4.0.3 and up\n",
              "2  U Launcher Lite – FREE Live Cool Themes, Hide ...  ...  4.0.3 and up\n",
              "3                              Sketch - Draw & Paint  ...    4.2 and up\n",
              "4              Pixel Draw - Number Art Coloring Book  ...    4.4 and up\n",
              "\n",
              "[5 rows x 13 columns]"
            ]
          },
          "metadata": {},
          "execution_count": 5
        }
      ]
    },
    {
      "cell_type": "code",
      "metadata": {
        "colab": {
          "base_uri": "https://localhost:8080/"
        },
        "id": "AS7S2gedyBm0",
        "outputId": "64de173b-2604-4015-ef7b-67401a54da6e"
      },
      "source": [
        "# checking the shape of dataset\n",
        "apps_data.shape"
      ],
      "execution_count": 6,
      "outputs": [
        {
          "output_type": "execute_result",
          "data": {
            "text/plain": [
              "(10841, 13)"
            ]
          },
          "metadata": {},
          "execution_count": 6
        }
      ]
    },
    {
      "cell_type": "code",
      "metadata": {
        "colab": {
          "base_uri": "https://localhost:8080/"
        },
        "id": "14mOHCZISMhD",
        "outputId": "3818f091-47bb-4f5a-e628-681c0b567440"
      },
      "source": [
        "# looking at the columns\n",
        "apps_data.columns"
      ],
      "execution_count": 7,
      "outputs": [
        {
          "output_type": "execute_result",
          "data": {
            "text/plain": [
              "Index(['App', 'Category', 'Rating', 'Reviews', 'Size', 'Installs', 'Type',\n",
              "       'Price', 'Content Rating', 'Genres', 'Last Updated', 'Current Ver',\n",
              "       'Android Ver'],\n",
              "      dtype='object')"
            ]
          },
          "metadata": {},
          "execution_count": 7
        }
      ]
    },
    {
      "cell_type": "code",
      "metadata": {
        "colab": {
          "base_uri": "https://localhost:8080/"
        },
        "id": "5_Io21aQ6GJQ",
        "outputId": "f30826f5-82cc-4e52-996a-83f454e9374e"
      },
      "source": [
        "# basic info\n",
        "apps_data.info()"
      ],
      "execution_count": 8,
      "outputs": [
        {
          "output_type": "stream",
          "text": [
            "<class 'pandas.core.frame.DataFrame'>\n",
            "RangeIndex: 10841 entries, 0 to 10840\n",
            "Data columns (total 13 columns):\n",
            " #   Column          Non-Null Count  Dtype  \n",
            "---  ------          --------------  -----  \n",
            " 0   App             10841 non-null  object \n",
            " 1   Category        10841 non-null  object \n",
            " 2   Rating          9367 non-null   float64\n",
            " 3   Reviews         10841 non-null  object \n",
            " 4   Size            10841 non-null  object \n",
            " 5   Installs        10841 non-null  object \n",
            " 6   Type            10840 non-null  object \n",
            " 7   Price           10841 non-null  object \n",
            " 8   Content Rating  10840 non-null  object \n",
            " 9   Genres          10841 non-null  object \n",
            " 10  Last Updated    10841 non-null  object \n",
            " 11  Current Ver     10833 non-null  object \n",
            " 12  Android Ver     10838 non-null  object \n",
            "dtypes: float64(1), object(12)\n",
            "memory usage: 1.1+ MB\n"
          ],
          "name": "stdout"
        }
      ]
    },
    {
      "cell_type": "markdown",
      "metadata": {
        "id": "KfgEPU6jVBjD"
      },
      "source": [
        "### <b>*Insight of the data set*</b>\n",
        "\n",
        "It’s important to know the different types of data/variables in the given dataset. These are the different types of data present in the dataset like float, object, string.\n",
        "\n",
        "We can observe that, our dataset contains the data of about 10841 apps found on the play store.\n",
        "\n",
        "Dataset has 13 columns which are the parameters of the apps. Let's look at each column -\n",
        "\n",
        "*   **App** - Name of the app\n",
        "*   **Category** - type of the app\n",
        "*   **Rating** - rated by the users out of 5\n",
        "*   **Reviews** - number of reviews given by users\n",
        "*   **Size** - size of the app in mb\n",
        "*   **Installs** - number of instalations of app\n",
        "*   **Type** - free or paid\n",
        "*   **Price** - price in $ of paid apps\n",
        "*   **Content Rating** - rating for which users can use app\n",
        "*   **Genres** - category or type of app\n",
        "*   **Last Updated** - date on which app updated last time\n",
        "*   **Current Ver** - current version of the app\n",
        "*   **Android Ver** - android version which app supports\n",
        "\n"
      ]
    },
    {
      "cell_type": "markdown",
      "metadata": {
        "id": "_zUG7XY6eqX5"
      },
      "source": [
        "## **Analyzing and treating missing values**\n",
        "\n",
        "Missing values are caused by incomplete data. It is important to handle missing values effectively, as they can lead to inaccurate inferences and conclusions.\n",
        "\n",
        "**Let's start by analyzing variables with missing values.**"
      ]
    },
    {
      "cell_type": "code",
      "metadata": {
        "colab": {
          "base_uri": "https://localhost:8080/"
        },
        "id": "eNHvbipM7G2m",
        "outputId": "6fec8947-6562-43b9-f18c-5a3f761d39dd"
      },
      "source": [
        "# checking the columns which have missing values\n",
        "columns_with_missing_values = apps_data.columns[apps_data.isnull().any()]\n",
        "apps_data[columns_with_missing_values].isnull().sum()"
      ],
      "execution_count": 9,
      "outputs": [
        {
          "output_type": "execute_result",
          "data": {
            "text/plain": [
              "Rating            1474\n",
              "Type                 1\n",
              "Content Rating       1\n",
              "Current Ver          8\n",
              "Android Ver          3\n",
              "dtype: int64"
            ]
          },
          "metadata": {},
          "execution_count": 9
        }
      ]
    },
    {
      "cell_type": "markdown",
      "metadata": {
        "id": "pCiWGzKShPKv"
      },
      "source": [
        "**Yep, we do have missing values.**\n",
        "\n",
        "Looking at number of missing values above, we notice that the column *Rating* has a lot of missing values in it. The other columns do have missing values but they are less than 10.\n",
        "\n",
        "Let's analyze the columns with missing values so we can figure out why the data is missing. This is the point at which we get into the part of data science. It can be a frustrating part of data science, especially if you're newer to the field and don't have a lot of experience. For dealing with missing values, we'll need to use our intution to figure out why the value is missing.\n",
        "\n",
        "Let's start with column ***Type*** "
      ]
    },
    {
      "cell_type": "code",
      "metadata": {
        "colab": {
          "base_uri": "https://localhost:8080/",
          "height": 80
        },
        "id": "zHwaEMo67qqn",
        "outputId": "78e98939-624b-4c70-f6dd-071b8e0faba6"
      },
      "source": [
        "# Looking at missing values in column Type\n",
        "apps_data[apps_data['Type'].isna()]"
      ],
      "execution_count": 10,
      "outputs": [
        {
          "output_type": "execute_result",
          "data": {
            "text/html": [
              "<div>\n",
              "<style scoped>\n",
              "    .dataframe tbody tr th:only-of-type {\n",
              "        vertical-align: middle;\n",
              "    }\n",
              "\n",
              "    .dataframe tbody tr th {\n",
              "        vertical-align: top;\n",
              "    }\n",
              "\n",
              "    .dataframe thead th {\n",
              "        text-align: right;\n",
              "    }\n",
              "</style>\n",
              "<table border=\"1\" class=\"dataframe\">\n",
              "  <thead>\n",
              "    <tr style=\"text-align: right;\">\n",
              "      <th></th>\n",
              "      <th>App</th>\n",
              "      <th>Category</th>\n",
              "      <th>Rating</th>\n",
              "      <th>Reviews</th>\n",
              "      <th>Size</th>\n",
              "      <th>Installs</th>\n",
              "      <th>Type</th>\n",
              "      <th>Price</th>\n",
              "      <th>Content Rating</th>\n",
              "      <th>Genres</th>\n",
              "      <th>Last Updated</th>\n",
              "      <th>Current Ver</th>\n",
              "      <th>Android Ver</th>\n",
              "    </tr>\n",
              "  </thead>\n",
              "  <tbody>\n",
              "    <tr>\n",
              "      <th>9148</th>\n",
              "      <td>Command &amp; Conquer: Rivals</td>\n",
              "      <td>FAMILY</td>\n",
              "      <td>NaN</td>\n",
              "      <td>0</td>\n",
              "      <td>Varies with device</td>\n",
              "      <td>0</td>\n",
              "      <td>NaN</td>\n",
              "      <td>0</td>\n",
              "      <td>Everyone 10+</td>\n",
              "      <td>Strategy</td>\n",
              "      <td>June 28, 2018</td>\n",
              "      <td>Varies with device</td>\n",
              "      <td>Varies with device</td>\n",
              "    </tr>\n",
              "  </tbody>\n",
              "</table>\n",
              "</div>"
            ],
            "text/plain": [
              "                            App  ...         Android Ver\n",
              "9148  Command & Conquer: Rivals  ...  Varies with device\n",
              "\n",
              "[1 rows x 13 columns]"
            ]
          },
          "metadata": {},
          "execution_count": 10
        }
      ]
    },
    {
      "cell_type": "markdown",
      "metadata": {
        "id": "xDURJv6uxfh1"
      },
      "source": [
        "There is only one missing value. These value is probably missing because it is not recorded, rather than because it doesn't exist. So, it would make sense for us to try and guess what it would be rather than just leaving is as NaN.\n",
        "\n",
        "After cross-checking in the dataset the app's price is 0 it means the missing value is Free, So now we can fill the missing value with *Free*"
      ]
    },
    {
      "cell_type": "code",
      "metadata": {
        "id": "66uh4-c08Qwk"
      },
      "source": [
        "# filling missing data in city column\n",
        "apps_data['Type'].fillna('Free', inplace= True)"
      ],
      "execution_count": 11,
      "outputs": []
    },
    {
      "cell_type": "markdown",
      "metadata": {
        "id": "TmSICAAa25l-"
      },
      "source": [
        "Now looking at the missing value of column *Content Rating*"
      ]
    },
    {
      "cell_type": "code",
      "metadata": {
        "colab": {
          "base_uri": "https://localhost:8080/",
          "height": 80
        },
        "id": "yDzu8I6dpwMd",
        "outputId": "5dc4ab5d-992c-4388-9c16-7a38606a6102"
      },
      "source": [
        "# Looking at missing values in column Content Rating\n",
        "apps_data[apps_data['Content Rating'].isna()]"
      ],
      "execution_count": 12,
      "outputs": [
        {
          "output_type": "execute_result",
          "data": {
            "text/html": [
              "<div>\n",
              "<style scoped>\n",
              "    .dataframe tbody tr th:only-of-type {\n",
              "        vertical-align: middle;\n",
              "    }\n",
              "\n",
              "    .dataframe tbody tr th {\n",
              "        vertical-align: top;\n",
              "    }\n",
              "\n",
              "    .dataframe thead th {\n",
              "        text-align: right;\n",
              "    }\n",
              "</style>\n",
              "<table border=\"1\" class=\"dataframe\">\n",
              "  <thead>\n",
              "    <tr style=\"text-align: right;\">\n",
              "      <th></th>\n",
              "      <th>App</th>\n",
              "      <th>Category</th>\n",
              "      <th>Rating</th>\n",
              "      <th>Reviews</th>\n",
              "      <th>Size</th>\n",
              "      <th>Installs</th>\n",
              "      <th>Type</th>\n",
              "      <th>Price</th>\n",
              "      <th>Content Rating</th>\n",
              "      <th>Genres</th>\n",
              "      <th>Last Updated</th>\n",
              "      <th>Current Ver</th>\n",
              "      <th>Android Ver</th>\n",
              "    </tr>\n",
              "  </thead>\n",
              "  <tbody>\n",
              "    <tr>\n",
              "      <th>10472</th>\n",
              "      <td>Life Made WI-Fi Touchscreen Photo Frame</td>\n",
              "      <td>1.9</td>\n",
              "      <td>19.0</td>\n",
              "      <td>3.0M</td>\n",
              "      <td>1,000+</td>\n",
              "      <td>Free</td>\n",
              "      <td>0</td>\n",
              "      <td>Everyone</td>\n",
              "      <td>NaN</td>\n",
              "      <td>February 11, 2018</td>\n",
              "      <td>1.0.19</td>\n",
              "      <td>4.0 and up</td>\n",
              "      <td>NaN</td>\n",
              "    </tr>\n",
              "  </tbody>\n",
              "</table>\n",
              "</div>"
            ],
            "text/plain": [
              "                                           App Category  ...  Current Ver Android Ver\n",
              "10472  Life Made WI-Fi Touchscreen Photo Frame      1.9  ...   4.0 and up         NaN\n",
              "\n",
              "[1 rows x 13 columns]"
            ]
          },
          "metadata": {},
          "execution_count": 12
        }
      ]
    },
    {
      "cell_type": "markdown",
      "metadata": {
        "id": "rSBKxxIe3rtP"
      },
      "source": [
        "Looking at missing value we cannot conclude why this data is missing. It seems that values in the row are recorded in wrong column i.e starting from Category column the value of next column is recorded in previous column.It means value in Category column is missing and we can not figure out it's value so better idea will be to drop the row."
      ]
    },
    {
      "cell_type": "code",
      "metadata": {
        "id": "r9eCuHBQ3hmw"
      },
      "source": [
        "apps_data.dropna(subset=['Content Rating'], inplace= True)"
      ],
      "execution_count": 13,
      "outputs": []
    },
    {
      "cell_type": "markdown",
      "metadata": {
        "id": "1uIym4Xr8MMP"
      },
      "source": [
        "Android Ver and Current Ver columns will not be needed for any analysis and visualisation as they only denote the updates. So we can drop this columns.\n"
      ]
    },
    {
      "cell_type": "code",
      "metadata": {
        "id": "D3gJS6-a6ju1"
      },
      "source": [
        "# dropping unnecessary columns\n",
        "apps_data.drop(columns=['Android Ver','Current Ver'], axis= 1, inplace= True)"
      ],
      "execution_count": 14,
      "outputs": []
    },
    {
      "cell_type": "markdown",
      "metadata": {
        "id": "fqIIq8_Tdh20"
      },
      "source": [
        "Now looking at the missing values of column *Rating*. There are 1474 values which are missing. This ratings are given by the users. \n",
        "\n",
        "Let's see the distribution of the ratings."
      ]
    },
    {
      "cell_type": "code",
      "metadata": {
        "colab": {
          "base_uri": "https://localhost:8080/",
          "height": 279
        },
        "id": "84zPwmTWfUSF",
        "outputId": "2604de32-2ecc-4082-a26a-89a19fa05849"
      },
      "source": [
        "sns.distplot(apps_data['Rating'])\n",
        "plt.show()"
      ],
      "execution_count": 15,
      "outputs": [
        {
          "output_type": "display_data",
          "data": {
            "image/png": "[encoded data removed]",
            "text/plain": [
              "<Figure size 432x288 with 1 Axes>"
            ]
          },
          "metadata": {
            "needs_background": "light"
          }
        }
      ]
    },
    {
      "cell_type": "markdown",
      "metadata": {
        "id": "zgi8xrgMeuXG"
      },
      "source": [
        "It depicts negatively skewed distribution and in skewed distributions, the median is the best measure because it is unaffected by extreme outliers or non-symmetric distributions of scores.\n",
        "\n",
        " We can replace the missing values with the median value of the column."
      ]
    },
    {
      "cell_type": "code",
      "metadata": {
        "id": "Qt33Mzo2c97I"
      },
      "source": [
        "# calculating median value\n",
        "median_value = apps_data['Rating'].median()"
      ],
      "execution_count": 16,
      "outputs": []
    },
    {
      "cell_type": "code",
      "metadata": {
        "id": "nUI751XK9Q64"
      },
      "source": [
        "# replacing the missing values with median value\n",
        "apps_data['Rating'].fillna(median_value, inplace= True)"
      ],
      "execution_count": 17,
      "outputs": []
    },
    {
      "cell_type": "markdown",
      "metadata": {
        "id": "nDIW5o9NBAAK"
      },
      "source": [
        "Finally fixing all the missing values let's have a look at our dataset."
      ]
    },
    {
      "cell_type": "code",
      "metadata": {
        "colab": {
          "base_uri": "https://localhost:8080/"
        },
        "id": "ik_I0IC5BciR",
        "outputId": "155d9ecb-b3a2-42c0-e39c-d84f5993b61a"
      },
      "source": [
        "# checking the count of missing values\n",
        "apps_data.isna().sum()"
      ],
      "execution_count": 18,
      "outputs": [
        {
          "output_type": "execute_result",
          "data": {
            "text/plain": [
              "App               0\n",
              "Category          0\n",
              "Rating            0\n",
              "Reviews           0\n",
              "Size              0\n",
              "Installs          0\n",
              "Type              0\n",
              "Price             0\n",
              "Content Rating    0\n",
              "Genres            0\n",
              "Last Updated      0\n",
              "dtype: int64"
            ]
          },
          "metadata": {},
          "execution_count": 18
        }
      ]
    },
    {
      "cell_type": "markdown",
      "metadata": {
        "id": "C7lTf31VBc6Y"
      },
      "source": [
        "All the columns have null count zero it means the dataset doesn't contain any missing values.\n",
        "\n",
        "Now our dataset is cleaned and we can start preparing our dataset."
      ]
    },
    {
      "cell_type": "code",
      "metadata": {
        "colab": {
          "base_uri": "https://localhost:8080/"
        },
        "id": "UJqsTm5r9ld8",
        "outputId": "d7d2373b-7dde-4243-f6db-fd899d2f6390"
      },
      "source": [
        "# basic info\n",
        "apps_data.info()"
      ],
      "execution_count": 19,
      "outputs": [
        {
          "output_type": "stream",
          "text": [
            "<class 'pandas.core.frame.DataFrame'>\n",
            "Int64Index: 10840 entries, 0 to 10840\n",
            "Data columns (total 11 columns):\n",
            " #   Column          Non-Null Count  Dtype  \n",
            "---  ------          --------------  -----  \n",
            " 0   App             10840 non-null  object \n",
            " 1   Category        10840 non-null  object \n",
            " 2   Rating          10840 non-null  float64\n",
            " 3   Reviews         10840 non-null  object \n",
            " 4   Size            10840 non-null  object \n",
            " 5   Installs        10840 non-null  object \n",
            " 6   Type            10840 non-null  object \n",
            " 7   Price           10840 non-null  object \n",
            " 8   Content Rating  10840 non-null  object \n",
            " 9   Genres          10840 non-null  object \n",
            " 10  Last Updated    10840 non-null  object \n",
            "dtypes: float64(1), object(10)\n",
            "memory usage: 1016.2+ KB\n"
          ],
          "name": "stdout"
        }
      ]
    },
    {
      "cell_type": "markdown",
      "metadata": {
        "id": "QDlYgCFhDUDW"
      },
      "source": [
        "Columns like Reviews, Size, Installs, Price are of object type so  we can change their data type to integer/float. \n",
        "\n",
        "Let's start with changing Reviews column from object to integer."
      ]
    },
    {
      "cell_type": "code",
      "metadata": {
        "id": "WT7vsx3F8nlJ"
      },
      "source": [
        "# changing data type of column Reviews\n",
        "apps_data['Reviews'] = apps_data.Reviews.astype(int)"
      ],
      "execution_count": 20,
      "outputs": []
    },
    {
      "cell_type": "markdown",
      "metadata": {
        "id": "ACFmc64BqSIj"
      },
      "source": [
        "Now changing the type of the Size column. First looking at the unique values in the column."
      ]
    },
    {
      "cell_type": "code",
      "metadata": {
        "colab": {
          "base_uri": "https://localhost:8080/",
          "height": 110
        },
        "id": "r5estn3u5ZDe",
        "outputId": "4fbe42fe-d1fc-45e9-ddfb-18ff9b282d91"
      },
      "source": [
        "apps_data.head(2)"
      ],
      "execution_count": 21,
      "outputs": [
        {
          "output_type": "execute_result",
          "data": {
            "text/html": [
              "<div>\n",
              "<style scoped>\n",
              "    .dataframe tbody tr th:only-of-type {\n",
              "        vertical-align: middle;\n",
              "    }\n",
              "\n",
              "    .dataframe tbody tr th {\n",
              "        vertical-align: top;\n",
              "    }\n",
              "\n",
              "    .dataframe thead th {\n",
              "        text-align: right;\n",
              "    }\n",
              "</style>\n",
              "<table border=\"1\" class=\"dataframe\">\n",
              "  <thead>\n",
              "    <tr style=\"text-align: right;\">\n",
              "      <th></th>\n",
              "      <th>App</th>\n",
              "      <th>Category</th>\n",
              "      <th>Rating</th>\n",
              "      <th>Reviews</th>\n",
              "      <th>Size</th>\n",
              "      <th>Installs</th>\n",
              "      <th>Type</th>\n",
              "      <th>Price</th>\n",
              "      <th>Content Rating</th>\n",
              "      <th>Genres</th>\n",
              "      <th>Last Updated</th>\n",
              "    </tr>\n",
              "  </thead>\n",
              "  <tbody>\n",
              "    <tr>\n",
              "      <th>0</th>\n",
              "      <td>Photo Editor &amp; Candy Camera &amp; Grid &amp; ScrapBook</td>\n",
              "      <td>ART_AND_DESIGN</td>\n",
              "      <td>4.1</td>\n",
              "      <td>159</td>\n",
              "      <td>19M</td>\n",
              "      <td>10,000+</td>\n",
              "      <td>Free</td>\n",
              "      <td>0</td>\n",
              "      <td>Everyone</td>\n",
              "      <td>Art &amp; Design</td>\n",
              "      <td>January 7, 2018</td>\n",
              "    </tr>\n",
              "    <tr>\n",
              "      <th>1</th>\n",
              "      <td>Coloring book moana</td>\n",
              "      <td>ART_AND_DESIGN</td>\n",
              "      <td>3.9</td>\n",
              "      <td>967</td>\n",
              "      <td>14M</td>\n",
              "      <td>500,000+</td>\n",
              "      <td>Free</td>\n",
              "      <td>0</td>\n",
              "      <td>Everyone</td>\n",
              "      <td>Art &amp; Design;Pretend Play</td>\n",
              "      <td>January 15, 2018</td>\n",
              "    </tr>\n",
              "  </tbody>\n",
              "</table>\n",
              "</div>"
            ],
            "text/plain": [
              "                                              App  ...      Last Updated\n",
              "0  Photo Editor & Candy Camera & Grid & ScrapBook  ...   January 7, 2018\n",
              "1                             Coloring book moana  ...  January 15, 2018\n",
              "\n",
              "[2 rows x 11 columns]"
            ]
          },
          "metadata": {},
          "execution_count": 21
        }
      ]
    },
    {
      "cell_type": "code",
      "metadata": {
        "id": "GLOyver9pr35"
      },
      "source": [
        "# apps_data['Size'].unique()"
      ],
      "execution_count": 22,
      "outputs": []
    },
    {
      "cell_type": "markdown",
      "metadata": {
        "id": "bgY2MYGzq79Z"
      },
      "source": [
        "Size column contain characters M and K which denotes MB and kB so we will remove M and convert kB to MB by replacing K with e-3. \n",
        "\n",
        "There are some apps which size varies with device in which they are installed so we cannot predict there size or replace them with mean or median as some have small and some large size. It will be better to drop that rows with varies with devices in Size column."
      ]
    },
    {
      "cell_type": "code",
      "metadata": {
        "id": "vHYQH3RbqvGL"
      },
      "source": [
        "apps_data['Size'] = apps_data['Size'].apply(lambda x: x.replace('M', ''))\n",
        "apps_data['Size'] = apps_data['Size'].apply(lambda x: x.replace('k', 'e-3'))\n",
        "apps_data = apps_data[apps_data['Size'] != 'Varies with device']\n",
        "apps_data['Size'] = apps_data['Size'].astype(float)"
      ],
      "execution_count": 23,
      "outputs": []
    },
    {
      "cell_type": "markdown",
      "metadata": {
        "id": "Dtlijtkb-2ci"
      },
      "source": [
        "To change the type of *Installs* column first we have to remove the special character '+' and ',' from the values."
      ]
    },
    {
      "cell_type": "code",
      "metadata": {
        "id": "YkymvctS-3Wp"
      },
      "source": [
        "apps_data['Installs'] = apps_data['Installs'].apply(lambda x: x.replace('+', ''))\n",
        "apps_data['Installs'] = apps_data['Installs'].apply(lambda x: x.replace(',', ''))"
      ],
      "execution_count": 24,
      "outputs": []
    },
    {
      "cell_type": "code",
      "metadata": {
        "id": "4xyX3-qOB7QY"
      },
      "source": [
        "apps_data['Installs'] = apps_data['Installs'].astype(int)"
      ],
      "execution_count": 25,
      "outputs": []
    },
    {
      "cell_type": "markdown",
      "metadata": {
        "id": "wZq_wLVkB34z"
      },
      "source": [
        "Now changing the type of Price column to float. First,  we have remove the special character '$'."
      ]
    },
    {
      "cell_type": "code",
      "metadata": {
        "id": "4YhRx_-F-4Gv"
      },
      "source": [
        "apps_data['Price'] = apps_data['Price'].apply(lambda x: x.replace('$', ''))\n",
        "apps_data['Price'] = apps_data['Price'].astype(float)"
      ],
      "execution_count": 26,
      "outputs": []
    },
    {
      "cell_type": "markdown",
      "metadata": {
        "id": "Gzc_FwU04QF_"
      },
      "source": [
        "Now looking at the last updated column it contains the date on which the app is updated/launched last time. It is of object type so we have to convert date in the date-time format."
      ]
    },
    {
      "cell_type": "code",
      "metadata": {
        "id": "oslTf3ee-4D4"
      },
      "source": [
        "# Converting 'date' dtype from object to datetime\n",
        "def get_date(date_string):\n",
        "  date_obj = datetime.strptime(date_string, '%B %d, %Y').date()\n",
        "  return date_obj\n",
        "\n",
        "apps_data['Last Updated'] = apps_data['Last Updated'].apply(get_date)"
      ],
      "execution_count": 27,
      "outputs": []
    },
    {
      "cell_type": "markdown",
      "metadata": {
        "id": "7PynorkJATNE"
      },
      "source": [
        "## **Let's have a look at the dataset after cleaning it**"
      ]
    },
    {
      "cell_type": "code",
      "metadata": {
        "colab": {
          "base_uri": "https://localhost:8080/",
          "height": 203
        },
        "id": "DStMnPml-4Ae",
        "outputId": "f9520a1c-ed8b-45df-f227-c9cb7ee75367"
      },
      "source": [
        "apps_data.head()"
      ],
      "execution_count": 28,
      "outputs": [
        {
          "output_type": "execute_result",
          "data": {
            "text/html": [
              "<div>\n",
              "<style scoped>\n",
              "    .dataframe tbody tr th:only-of-type {\n",
              "        vertical-align: middle;\n",
              "    }\n",
              "\n",
              "    .dataframe tbody tr th {\n",
              "        vertical-align: top;\n",
              "    }\n",
              "\n",
              "    .dataframe thead th {\n",
              "        text-align: right;\n",
              "    }\n",
              "</style>\n",
              "<table border=\"1\" class=\"dataframe\">\n",
              "  <thead>\n",
              "    <tr style=\"text-align: right;\">\n",
              "      <th></th>\n",
              "      <th>App</th>\n",
              "      <th>Category</th>\n",
              "      <th>Rating</th>\n",
              "      <th>Reviews</th>\n",
              "      <th>Size</th>\n",
              "      <th>Installs</th>\n",
              "      <th>Type</th>\n",
              "      <th>Price</th>\n",
              "      <th>Content Rating</th>\n",
              "      <th>Genres</th>\n",
              "      <th>Last Updated</th>\n",
              "    </tr>\n",
              "  </thead>\n",
              "  <tbody>\n",
              "    <tr>\n",
              "      <th>0</th>\n",
              "      <td>Photo Editor &amp; Candy Camera &amp; Grid &amp; ScrapBook</td>\n",
              "      <td>ART_AND_DESIGN</td>\n",
              "      <td>4.1</td>\n",
              "      <td>159</td>\n",
              "      <td>19.0</td>\n",
              "      <td>10000</td>\n",
              "      <td>Free</td>\n",
              "      <td>0.0</td>\n",
              "      <td>Everyone</td>\n",
              "      <td>Art &amp; Design</td>\n",
              "      <td>2018-01-07</td>\n",
              "    </tr>\n",
              "    <tr>\n",
              "      <th>1</th>\n",
              "      <td>Coloring book moana</td>\n",
              "      <td>ART_AND_DESIGN</td>\n",
              "      <td>3.9</td>\n",
              "      <td>967</td>\n",
              "      <td>14.0</td>\n",
              "      <td>500000</td>\n",
              "      <td>Free</td>\n",
              "      <td>0.0</td>\n",
              "      <td>Everyone</td>\n",
              "      <td>Art &amp; Design;Pretend Play</td>\n",
              "      <td>2018-01-15</td>\n",
              "    </tr>\n",
              "    <tr>\n",
              "      <th>2</th>\n",
              "      <td>U Launcher Lite – FREE Live Cool Themes, Hide ...</td>\n",
              "      <td>ART_AND_DESIGN</td>\n",
              "      <td>4.7</td>\n",
              "      <td>87510</td>\n",
              "      <td>8.7</td>\n",
              "      <td>5000000</td>\n",
              "      <td>Free</td>\n",
              "      <td>0.0</td>\n",
              "      <td>Everyone</td>\n",
              "      <td>Art &amp; Design</td>\n",
              "      <td>2018-08-01</td>\n",
              "    </tr>\n",
              "    <tr>\n",
              "      <th>3</th>\n",
              "      <td>Sketch - Draw &amp; Paint</td>\n",
              "      <td>ART_AND_DESIGN</td>\n",
              "      <td>4.5</td>\n",
              "      <td>215644</td>\n",
              "      <td>25.0</td>\n",
              "      <td>50000000</td>\n",
              "      <td>Free</td>\n",
              "      <td>0.0</td>\n",
              "      <td>Teen</td>\n",
              "      <td>Art &amp; Design</td>\n",
              "      <td>2018-06-08</td>\n",
              "    </tr>\n",
              "    <tr>\n",
              "      <th>4</th>\n",
              "      <td>Pixel Draw - Number Art Coloring Book</td>\n",
              "      <td>ART_AND_DESIGN</td>\n",
              "      <td>4.3</td>\n",
              "      <td>967</td>\n",
              "      <td>2.8</td>\n",
              "      <td>100000</td>\n",
              "      <td>Free</td>\n",
              "      <td>0.0</td>\n",
              "      <td>Everyone</td>\n",
              "      <td>Art &amp; Design;Creativity</td>\n",
              "      <td>2018-06-20</td>\n",
              "    </tr>\n",
              "  </tbody>\n",
              "</table>\n",
              "</div>"
            ],
            "text/plain": [
              "                                                 App  ... Last Updated\n",
              "0     Photo Editor & Candy Camera & Grid & ScrapBook  ...   2018-01-07\n",
              "1                                Coloring book moana  ...   2018-01-15\n",
              "2  U Launcher Lite – FREE Live Cool Themes, Hide ...  ...   2018-08-01\n",
              "3                              Sketch - Draw & Paint  ...   2018-06-08\n",
              "4              Pixel Draw - Number Art Coloring Book  ...   2018-06-20\n",
              "\n",
              "[5 rows x 11 columns]"
            ]
          },
          "metadata": {},
          "execution_count": 28
        }
      ]
    },
    {
      "cell_type": "code",
      "metadata": {
        "colab": {
          "base_uri": "https://localhost:8080/",
          "height": 203
        },
        "id": "N6Rqlpsp-394",
        "outputId": "9c7484ff-aef5-4b72-a472-4d90c3140b60"
      },
      "source": [
        "apps_data.tail()"
      ],
      "execution_count": 29,
      "outputs": [
        {
          "output_type": "execute_result",
          "data": {
            "text/html": [
              "<div>\n",
              "<style scoped>\n",
              "    .dataframe tbody tr th:only-of-type {\n",
              "        vertical-align: middle;\n",
              "    }\n",
              "\n",
              "    .dataframe tbody tr th {\n",
              "        vertical-align: top;\n",
              "    }\n",
              "\n",
              "    .dataframe thead th {\n",
              "        text-align: right;\n",
              "    }\n",
              "</style>\n",
              "<table border=\"1\" class=\"dataframe\">\n",
              "  <thead>\n",
              "    <tr style=\"text-align: right;\">\n",
              "      <th></th>\n",
              "      <th>App</th>\n",
              "      <th>Category</th>\n",
              "      <th>Rating</th>\n",
              "      <th>Reviews</th>\n",
              "      <th>Size</th>\n",
              "      <th>Installs</th>\n",
              "      <th>Type</th>\n",
              "      <th>Price</th>\n",
              "      <th>Content Rating</th>\n",
              "      <th>Genres</th>\n",
              "      <th>Last Updated</th>\n",
              "    </tr>\n",
              "  </thead>\n",
              "  <tbody>\n",
              "    <tr>\n",
              "      <th>10835</th>\n",
              "      <td>FR Forms</td>\n",
              "      <td>BUSINESS</td>\n",
              "      <td>4.3</td>\n",
              "      <td>0</td>\n",
              "      <td>9.6</td>\n",
              "      <td>10</td>\n",
              "      <td>Free</td>\n",
              "      <td>0.0</td>\n",
              "      <td>Everyone</td>\n",
              "      <td>Business</td>\n",
              "      <td>2016-09-29</td>\n",
              "    </tr>\n",
              "    <tr>\n",
              "      <th>10836</th>\n",
              "      <td>Sya9a Maroc - FR</td>\n",
              "      <td>FAMILY</td>\n",
              "      <td>4.5</td>\n",
              "      <td>38</td>\n",
              "      <td>53.0</td>\n",
              "      <td>5000</td>\n",
              "      <td>Free</td>\n",
              "      <td>0.0</td>\n",
              "      <td>Everyone</td>\n",
              "      <td>Education</td>\n",
              "      <td>2017-07-25</td>\n",
              "    </tr>\n",
              "    <tr>\n",
              "      <th>10837</th>\n",
              "      <td>Fr. Mike Schmitz Audio Teachings</td>\n",
              "      <td>FAMILY</td>\n",
              "      <td>5.0</td>\n",
              "      <td>4</td>\n",
              "      <td>3.6</td>\n",
              "      <td>100</td>\n",
              "      <td>Free</td>\n",
              "      <td>0.0</td>\n",
              "      <td>Everyone</td>\n",
              "      <td>Education</td>\n",
              "      <td>2018-07-06</td>\n",
              "    </tr>\n",
              "    <tr>\n",
              "      <th>10838</th>\n",
              "      <td>Parkinson Exercices FR</td>\n",
              "      <td>MEDICAL</td>\n",
              "      <td>4.3</td>\n",
              "      <td>3</td>\n",
              "      <td>9.5</td>\n",
              "      <td>1000</td>\n",
              "      <td>Free</td>\n",
              "      <td>0.0</td>\n",
              "      <td>Everyone</td>\n",
              "      <td>Medical</td>\n",
              "      <td>2017-01-20</td>\n",
              "    </tr>\n",
              "    <tr>\n",
              "      <th>10840</th>\n",
              "      <td>iHoroscope - 2018 Daily Horoscope &amp; Astrology</td>\n",
              "      <td>LIFESTYLE</td>\n",
              "      <td>4.5</td>\n",
              "      <td>398307</td>\n",
              "      <td>19.0</td>\n",
              "      <td>10000000</td>\n",
              "      <td>Free</td>\n",
              "      <td>0.0</td>\n",
              "      <td>Everyone</td>\n",
              "      <td>Lifestyle</td>\n",
              "      <td>2018-07-25</td>\n",
              "    </tr>\n",
              "  </tbody>\n",
              "</table>\n",
              "</div>"
            ],
            "text/plain": [
              "                                                 App  ... Last Updated\n",
              "10835                                       FR Forms  ...   2016-09-29\n",
              "10836                               Sya9a Maroc - FR  ...   2017-07-25\n",
              "10837               Fr. Mike Schmitz Audio Teachings  ...   2018-07-06\n",
              "10838                         Parkinson Exercices FR  ...   2017-01-20\n",
              "10840  iHoroscope - 2018 Daily Horoscope & Astrology  ...   2018-07-25\n",
              "\n",
              "[5 rows x 11 columns]"
            ]
          },
          "metadata": {},
          "execution_count": 29
        }
      ]
    },
    {
      "cell_type": "code",
      "metadata": {
        "colab": {
          "base_uri": "https://localhost:8080/"
        },
        "id": "yyDStOVjA4EN",
        "outputId": "164ee65b-90b8-449b-9487-db1ef4c585f4"
      },
      "source": [
        "apps_data.info()"
      ],
      "execution_count": 30,
      "outputs": [
        {
          "output_type": "stream",
          "text": [
            "<class 'pandas.core.frame.DataFrame'>\n",
            "Int64Index: 9145 entries, 0 to 10840\n",
            "Data columns (total 11 columns):\n",
            " #   Column          Non-Null Count  Dtype  \n",
            "---  ------          --------------  -----  \n",
            " 0   App             9145 non-null   object \n",
            " 1   Category        9145 non-null   object \n",
            " 2   Rating          9145 non-null   float64\n",
            " 3   Reviews         9145 non-null   int64  \n",
            " 4   Size            9145 non-null   float64\n",
            " 5   Installs        9145 non-null   int64  \n",
            " 6   Type            9145 non-null   object \n",
            " 7   Price           9145 non-null   float64\n",
            " 8   Content Rating  9145 non-null   object \n",
            " 9   Genres          9145 non-null   object \n",
            " 10  Last Updated    9145 non-null   object \n",
            "dtypes: float64(3), int64(2), object(6)\n",
            "memory usage: 857.3+ KB\n"
          ],
          "name": "stdout"
        }
      ]
    },
    {
      "cell_type": "code",
      "metadata": {
        "colab": {
          "base_uri": "https://localhost:8080/",
          "height": 295
        },
        "id": "F4sBxfBnUh3R",
        "outputId": "418c1c0f-a5dc-49fa-f654-6c6ddba16e26"
      },
      "source": [
        "apps_data.describe()"
      ],
      "execution_count": 31,
      "outputs": [
        {
          "output_type": "execute_result",
          "data": {
            "text/html": [
              "<div>\n",
              "<style scoped>\n",
              "    .dataframe tbody tr th:only-of-type {\n",
              "        vertical-align: middle;\n",
              "    }\n",
              "\n",
              "    .dataframe tbody tr th {\n",
              "        vertical-align: top;\n",
              "    }\n",
              "\n",
              "    .dataframe thead th {\n",
              "        text-align: right;\n",
              "    }\n",
              "</style>\n",
              "<table border=\"1\" class=\"dataframe\">\n",
              "  <thead>\n",
              "    <tr style=\"text-align: right;\">\n",
              "      <th></th>\n",
              "      <th>Rating</th>\n",
              "      <th>Reviews</th>\n",
              "      <th>Size</th>\n",
              "      <th>Installs</th>\n",
              "      <th>Price</th>\n",
              "    </tr>\n",
              "  </thead>\n",
              "  <tbody>\n",
              "    <tr>\n",
              "      <th>count</th>\n",
              "      <td>9145.000000</td>\n",
              "      <td>9.145000e+03</td>\n",
              "      <td>9145.000000</td>\n",
              "      <td>9.145000e+03</td>\n",
              "      <td>9145.000000</td>\n",
              "    </tr>\n",
              "    <tr>\n",
              "      <th>mean</th>\n",
              "      <td>4.193384</td>\n",
              "      <td>2.490487e+05</td>\n",
              "      <td>21.516530</td>\n",
              "      <td>7.114842e+06</td>\n",
              "      <td>1.184366</td>\n",
              "    </tr>\n",
              "    <tr>\n",
              "      <th>std</th>\n",
              "      <td>0.502702</td>\n",
              "      <td>1.716211e+06</td>\n",
              "      <td>22.588748</td>\n",
              "      <td>4.619357e+07</td>\n",
              "      <td>17.355754</td>\n",
              "    </tr>\n",
              "    <tr>\n",
              "      <th>min</th>\n",
              "      <td>1.000000</td>\n",
              "      <td>0.000000e+00</td>\n",
              "      <td>0.008500</td>\n",
              "      <td>0.000000e+00</td>\n",
              "      <td>0.000000</td>\n",
              "    </tr>\n",
              "    <tr>\n",
              "      <th>25%</th>\n",
              "      <td>4.100000</td>\n",
              "      <td>2.200000e+01</td>\n",
              "      <td>4.900000</td>\n",
              "      <td>1.000000e+03</td>\n",
              "      <td>0.000000</td>\n",
              "    </tr>\n",
              "    <tr>\n",
              "      <th>50%</th>\n",
              "      <td>4.300000</td>\n",
              "      <td>7.420000e+02</td>\n",
              "      <td>13.000000</td>\n",
              "      <td>1.000000e+05</td>\n",
              "      <td>0.000000</td>\n",
              "    </tr>\n",
              "    <tr>\n",
              "      <th>75%</th>\n",
              "      <td>4.500000</td>\n",
              "      <td>2.503700e+04</td>\n",
              "      <td>30.000000</td>\n",
              "      <td>1.000000e+06</td>\n",
              "      <td>0.000000</td>\n",
              "    </tr>\n",
              "    <tr>\n",
              "      <th>max</th>\n",
              "      <td>5.000000</td>\n",
              "      <td>4.489389e+07</td>\n",
              "      <td>100.000000</td>\n",
              "      <td>1.000000e+09</td>\n",
              "      <td>400.000000</td>\n",
              "    </tr>\n",
              "  </tbody>\n",
              "</table>\n",
              "</div>"
            ],
            "text/plain": [
              "            Rating       Reviews         Size      Installs        Price\n",
              "count  9145.000000  9.145000e+03  9145.000000  9.145000e+03  9145.000000\n",
              "mean      4.193384  2.490487e+05    21.516530  7.114842e+06     1.184366\n",
              "std       0.502702  1.716211e+06    22.588748  4.619357e+07    17.355754\n",
              "min       1.000000  0.000000e+00     0.008500  0.000000e+00     0.000000\n",
              "25%       4.100000  2.200000e+01     4.900000  1.000000e+03     0.000000\n",
              "50%       4.300000  7.420000e+02    13.000000  1.000000e+05     0.000000\n",
              "75%       4.500000  2.503700e+04    30.000000  1.000000e+06     0.000000\n",
              "max       5.000000  4.489389e+07   100.000000  1.000000e+09   400.000000"
            ]
          },
          "metadata": {},
          "execution_count": 31
        }
      ]
    },
    {
      "cell_type": "markdown",
      "metadata": {
        "id": "6u10jOWLad9b"
      },
      "source": [
        "##**Observation:**\n",
        "\n",
        "\n",
        "*   After cleaning we have dataset of shape 9145 rows and 11 columns i.e we have data of 9145 apps.\n",
        "*   There are no missing values now and columns have their respective data types.\n",
        "*   Rating for apps given by users is out of 5 having average of 4.19 rating.\n",
        "*   Max size of app is 100 MB. There were apps with size varying with device which would have size more than 100 MB but we could not predict their size thats why we had to drop them.\n",
        "*   There are less than 25% apps which are paid and maximum price app having is 400.\n",
        "\n",
        "**We can now explore the dataset and perform analysis.**\n"
      ]
    },
    {
      "cell_type": "markdown",
      "metadata": {
        "id": "Y04y4RrL1QCz"
      },
      "source": [
        "##**Exploratory Analysis and Visualization:**\n",
        " As we have cleaned our play store and user review data, now we can start our exploratory analysis and visualization  .\n",
        "\n",
        "**We can now explore the dataset and perform analysis.**"
      ]
    },
    {
      "cell_type": "code",
      "metadata": {
        "colab": {
          "base_uri": "https://localhost:8080/",
          "height": 203
        },
        "id": "S-xPTDZPJpoB",
        "outputId": "0bbc163f-e70d-4e9b-a379-967d8fed2a11"
      },
      "source": [
        "apps_data.head()"
      ],
      "execution_count": 32,
      "outputs": [
        {
          "output_type": "execute_result",
          "data": {
            "text/html": [
              "<div>\n",
              "<style scoped>\n",
              "    .dataframe tbody tr th:only-of-type {\n",
              "        vertical-align: middle;\n",
              "    }\n",
              "\n",
              "    .dataframe tbody tr th {\n",
              "        vertical-align: top;\n",
              "    }\n",
              "\n",
              "    .dataframe thead th {\n",
              "        text-align: right;\n",
              "    }\n",
              "</style>\n",
              "<table border=\"1\" class=\"dataframe\">\n",
              "  <thead>\n",
              "    <tr style=\"text-align: right;\">\n",
              "      <th></th>\n",
              "      <th>App</th>\n",
              "      <th>Category</th>\n",
              "      <th>Rating</th>\n",
              "      <th>Reviews</th>\n",
              "      <th>Size</th>\n",
              "      <th>Installs</th>\n",
              "      <th>Type</th>\n",
              "      <th>Price</th>\n",
              "      <th>Content Rating</th>\n",
              "      <th>Genres</th>\n",
              "      <th>Last Updated</th>\n",
              "    </tr>\n",
              "  </thead>\n",
              "  <tbody>\n",
              "    <tr>\n",
              "      <th>0</th>\n",
              "      <td>Photo Editor &amp; Candy Camera &amp; Grid &amp; ScrapBook</td>\n",
              "      <td>ART_AND_DESIGN</td>\n",
              "      <td>4.1</td>\n",
              "      <td>159</td>\n",
              "      <td>19.0</td>\n",
              "      <td>10000</td>\n",
              "      <td>Free</td>\n",
              "      <td>0.0</td>\n",
              "      <td>Everyone</td>\n",
              "      <td>Art &amp; Design</td>\n",
              "      <td>2018-01-07</td>\n",
              "    </tr>\n",
              "    <tr>\n",
              "      <th>1</th>\n",
              "      <td>Coloring book moana</td>\n",
              "      <td>ART_AND_DESIGN</td>\n",
              "      <td>3.9</td>\n",
              "      <td>967</td>\n",
              "      <td>14.0</td>\n",
              "      <td>500000</td>\n",
              "      <td>Free</td>\n",
              "      <td>0.0</td>\n",
              "      <td>Everyone</td>\n",
              "      <td>Art &amp; Design;Pretend Play</td>\n",
              "      <td>2018-01-15</td>\n",
              "    </tr>\n",
              "    <tr>\n",
              "      <th>2</th>\n",
              "      <td>U Launcher Lite – FREE Live Cool Themes, Hide ...</td>\n",
              "      <td>ART_AND_DESIGN</td>\n",
              "      <td>4.7</td>\n",
              "      <td>87510</td>\n",
              "      <td>8.7</td>\n",
              "      <td>5000000</td>\n",
              "      <td>Free</td>\n",
              "      <td>0.0</td>\n",
              "      <td>Everyone</td>\n",
              "      <td>Art &amp; Design</td>\n",
              "      <td>2018-08-01</td>\n",
              "    </tr>\n",
              "    <tr>\n",
              "      <th>3</th>\n",
              "      <td>Sketch - Draw &amp; Paint</td>\n",
              "      <td>ART_AND_DESIGN</td>\n",
              "      <td>4.5</td>\n",
              "      <td>215644</td>\n",
              "      <td>25.0</td>\n",
              "      <td>50000000</td>\n",
              "      <td>Free</td>\n",
              "      <td>0.0</td>\n",
              "      <td>Teen</td>\n",
              "      <td>Art &amp; Design</td>\n",
              "      <td>2018-06-08</td>\n",
              "    </tr>\n",
              "    <tr>\n",
              "      <th>4</th>\n",
              "      <td>Pixel Draw - Number Art Coloring Book</td>\n",
              "      <td>ART_AND_DESIGN</td>\n",
              "      <td>4.3</td>\n",
              "      <td>967</td>\n",
              "      <td>2.8</td>\n",
              "      <td>100000</td>\n",
              "      <td>Free</td>\n",
              "      <td>0.0</td>\n",
              "      <td>Everyone</td>\n",
              "      <td>Art &amp; Design;Creativity</td>\n",
              "      <td>2018-06-20</td>\n",
              "    </tr>\n",
              "  </tbody>\n",
              "</table>\n",
              "</div>"
            ],
            "text/plain": [
              "                                                 App  ... Last Updated\n",
              "0     Photo Editor & Candy Camera & Grid & ScrapBook  ...   2018-01-07\n",
              "1                                Coloring book moana  ...   2018-01-15\n",
              "2  U Launcher Lite – FREE Live Cool Themes, Hide ...  ...   2018-08-01\n",
              "3                              Sketch - Draw & Paint  ...   2018-06-08\n",
              "4              Pixel Draw - Number Art Coloring Book  ...   2018-06-20\n",
              "\n",
              "[5 rows x 11 columns]"
            ]
          },
          "metadata": {},
          "execution_count": 32
        }
      ]
    },
    {
      "cell_type": "markdown",
      "metadata": {
        "id": "kb_pDwCFS0Kp"
      },
      "source": [
        "## 1. **Which category apps are mostly paid** ?"
      ]
    },
    {
      "cell_type": "code",
      "metadata": {
        "colab": {
          "base_uri": "https://localhost:8080/",
          "height": 203
        },
        "id": "xaJF6MzITZYX",
        "outputId": "0fc00409-64b2-42a6-bfa4-d7266ed7f5d2"
      },
      "source": [
        "apps_data.head()"
      ],
      "execution_count": 33,
      "outputs": [
        {
          "output_type": "execute_result",
          "data": {
            "text/html": [
              "<div>\n",
              "<style scoped>\n",
              "    .dataframe tbody tr th:only-of-type {\n",
              "        vertical-align: middle;\n",
              "    }\n",
              "\n",
              "    .dataframe tbody tr th {\n",
              "        vertical-align: top;\n",
              "    }\n",
              "\n",
              "    .dataframe thead th {\n",
              "        text-align: right;\n",
              "    }\n",
              "</style>\n",
              "<table border=\"1\" class=\"dataframe\">\n",
              "  <thead>\n",
              "    <tr style=\"text-align: right;\">\n",
              "      <th></th>\n",
              "      <th>App</th>\n",
              "      <th>Category</th>\n",
              "      <th>Rating</th>\n",
              "      <th>Reviews</th>\n",
              "      <th>Size</th>\n",
              "      <th>Installs</th>\n",
              "      <th>Type</th>\n",
              "      <th>Price</th>\n",
              "      <th>Content Rating</th>\n",
              "      <th>Genres</th>\n",
              "      <th>Last Updated</th>\n",
              "    </tr>\n",
              "  </thead>\n",
              "  <tbody>\n",
              "    <tr>\n",
              "      <th>0</th>\n",
              "      <td>Photo Editor &amp; Candy Camera &amp; Grid &amp; ScrapBook</td>\n",
              "      <td>ART_AND_DESIGN</td>\n",
              "      <td>4.1</td>\n",
              "      <td>159</td>\n",
              "      <td>19.0</td>\n",
              "      <td>10000</td>\n",
              "      <td>Free</td>\n",
              "      <td>0.0</td>\n",
              "      <td>Everyone</td>\n",
              "      <td>Art &amp; Design</td>\n",
              "      <td>2018-01-07</td>\n",
              "    </tr>\n",
              "    <tr>\n",
              "      <th>1</th>\n",
              "      <td>Coloring book moana</td>\n",
              "      <td>ART_AND_DESIGN</td>\n",
              "      <td>3.9</td>\n",
              "      <td>967</td>\n",
              "      <td>14.0</td>\n",
              "      <td>500000</td>\n",
              "      <td>Free</td>\n",
              "      <td>0.0</td>\n",
              "      <td>Everyone</td>\n",
              "      <td>Art &amp; Design;Pretend Play</td>\n",
              "      <td>2018-01-15</td>\n",
              "    </tr>\n",
              "    <tr>\n",
              "      <th>2</th>\n",
              "      <td>U Launcher Lite – FREE Live Cool Themes, Hide ...</td>\n",
              "      <td>ART_AND_DESIGN</td>\n",
              "      <td>4.7</td>\n",
              "      <td>87510</td>\n",
              "      <td>8.7</td>\n",
              "      <td>5000000</td>\n",
              "      <td>Free</td>\n",
              "      <td>0.0</td>\n",
              "      <td>Everyone</td>\n",
              "      <td>Art &amp; Design</td>\n",
              "      <td>2018-08-01</td>\n",
              "    </tr>\n",
              "    <tr>\n",
              "      <th>3</th>\n",
              "      <td>Sketch - Draw &amp; Paint</td>\n",
              "      <td>ART_AND_DESIGN</td>\n",
              "      <td>4.5</td>\n",
              "      <td>215644</td>\n",
              "      <td>25.0</td>\n",
              "      <td>50000000</td>\n",
              "      <td>Free</td>\n",
              "      <td>0.0</td>\n",
              "      <td>Teen</td>\n",
              "      <td>Art &amp; Design</td>\n",
              "      <td>2018-06-08</td>\n",
              "    </tr>\n",
              "    <tr>\n",
              "      <th>4</th>\n",
              "      <td>Pixel Draw - Number Art Coloring Book</td>\n",
              "      <td>ART_AND_DESIGN</td>\n",
              "      <td>4.3</td>\n",
              "      <td>967</td>\n",
              "      <td>2.8</td>\n",
              "      <td>100000</td>\n",
              "      <td>Free</td>\n",
              "      <td>0.0</td>\n",
              "      <td>Everyone</td>\n",
              "      <td>Art &amp; Design;Creativity</td>\n",
              "      <td>2018-06-20</td>\n",
              "    </tr>\n",
              "  </tbody>\n",
              "</table>\n",
              "</div>"
            ],
            "text/plain": [
              "                                                 App  ... Last Updated\n",
              "0     Photo Editor & Candy Camera & Grid & ScrapBook  ...   2018-01-07\n",
              "1                                Coloring book moana  ...   2018-01-15\n",
              "2  U Launcher Lite – FREE Live Cool Themes, Hide ...  ...   2018-08-01\n",
              "3                              Sketch - Draw & Paint  ...   2018-06-08\n",
              "4              Pixel Draw - Number Art Coloring Book  ...   2018-06-20\n",
              "\n",
              "[5 rows x 11 columns]"
            ]
          },
          "metadata": {},
          "execution_count": 33
        }
      ]
    },
    {
      "cell_type": "code",
      "metadata": {
        "colab": {
          "base_uri": "https://localhost:8080/",
          "height": 766
        },
        "id": "3UoSQjndS2I-",
        "outputId": "0e7c009f-0580-467f-b609-1047d83c4314"
      },
      "source": [
        "paid = apps_data[apps_data['Type'] == 'Paid']\n",
        "Type_cat = apps_data.groupby('Category')['Type'].value_counts().unstack().plot.bar(figsize=(20,10), width=0.5)\n",
        "plt.title('Which Category apps are mostly paid', fontdict={ 'fontsize': 14,'fontweight':'bold'}, y=1.02)\n",
        "plt.plot()"
      ],
      "execution_count": 34,
      "outputs": [
        {
          "output_type": "execute_result",
          "data": {
            "text/plain": [
              "[]"
            ]
          },
          "metadata": {},
          "execution_count": 34
        },
        {
          "output_type": "display_data",
          "data": {
            "image/png": "[encoded data removed]",
            "text/plain": [
              "<Figure size 1440x720 with 1 Axes>"
            ]
          },
          "metadata": {
            "needs_background": "light"
          }
        }
      ]
    },
    {
      "cell_type": "markdown",
      "metadata": {
        "id": "-OxaJgKjTej_"
      },
      "source": [
        "##**Observation:**\n",
        "\n",
        "\n",
        "*   From above graph we can say that, Family category has the most free and paid app on the google play store.\n",
        "\n",
        "*    We can see social app is always free, like entertainment, event, education, comic, and more.\n",
        "\n",
        "*   The medical has a high amount of paid app considering quantity of medical app is not much."
      ]
    },
    {
      "cell_type": "markdown",
      "metadata": {
        "id": "5g2tQtiMDDWu"
      },
      "source": [
        "## 2. **Is Update year has effect on rating of the app ?**"
      ]
    },
    {
      "cell_type": "code",
      "metadata": {
        "colab": {
          "base_uri": "https://localhost:8080/"
        },
        "id": "rkgOCtRWDOtE",
        "outputId": "bfce96c6-98d5-48ca-c2e3-8dc27e59e7db"
      },
      "source": [
        "apps_data['Last Updated'] = pd.to_datetime(apps_data['Last Updated'], format=\"%Y-%m-%d\") \n",
        "# printing dataframe \n",
        "print(apps_data.dtypes)"
      ],
      "execution_count": 35,
      "outputs": [
        {
          "output_type": "stream",
          "text": [
            "App                       object\n",
            "Category                  object\n",
            "Rating                   float64\n",
            "Reviews                    int64\n",
            "Size                     float64\n",
            "Installs                   int64\n",
            "Type                      object\n",
            "Price                    float64\n",
            "Content Rating            object\n",
            "Genres                    object\n",
            "Last Updated      datetime64[ns]\n",
            "dtype: object\n"
          ],
          "name": "stdout"
        }
      ]
    },
    {
      "cell_type": "code",
      "metadata": {
        "id": "CUeUHC0kDWQR"
      },
      "source": [
        "apps_data['Year'] = pd.DatetimeIndex(apps_data['Last Updated']).year"
      ],
      "execution_count": 36,
      "outputs": []
    },
    {
      "cell_type": "code",
      "metadata": {
        "colab": {
          "base_uri": "https://localhost:8080/",
          "height": 514
        },
        "id": "jEpfIjS4DWM_",
        "outputId": "5d8e1557-25c9-4155-e6f6-20e977032d83"
      },
      "source": [
        "# scatter plot Rating/log_installs\n",
        "fig, ax = plt.subplots(figsize=(12,8))\n",
        "sns.scatterplot(x=\"Rating\", y=\"Year\", data=apps_data,color='maroon')"
      ],
      "execution_count": 37,
      "outputs": [
        {
          "output_type": "execute_result",
          "data": {
            "text/plain": [
              "<matplotlib.axes._subplots.AxesSubplot at 0x7f944cd1fd50>"
            ]
          },
          "metadata": {},
          "execution_count": 37
        },
        {
          "output_type": "display_data",
          "data": {
            "image/png": "[encoded data removed]",
            "text/plain": [
              "<Figure size 864x576 with 1 Axes>"
            ]
          },
          "metadata": {
            "needs_background": "light"
          }
        }
      ]
    },
    {
      "cell_type": "markdown",
      "metadata": {
        "id": "vKczqRp3De8u"
      },
      "source": [
        "##**Observations:**\n",
        "\n",
        "*    We can see from graph that, Year of update have significant effect on Rating of the app.\n",
        "\n",
        "*   Those apps who update their app frequently has more quantity of ratings.\n",
        "\n",
        "*   On basis of rating, We can say that those apps who make their product better over period of time have great chances of success."
      ]
    }
  ]
}